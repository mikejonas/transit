{
 "cells": [
  {
   "cell_type": "markdown",
   "metadata": {},
   "source": [
    "## Test Transits class\n",
    "Using this file for testing and iteration. For all the examples, we should test modifying the prompt along with temperature and other properties to get a good output"
   ]
  },
  {
   "cell_type": "code",
   "execution_count": 341,
   "metadata": {},
   "outputs": [],
   "source": [
    "from dotenv import load_dotenv\n",
    "load_dotenv()  # fill out required environment variables in .env file\n",
    "\n",
    "from openai import OpenAI\n",
    "client = OpenAI()"
   ]
  },
  {
   "cell_type": "markdown",
   "metadata": {},
   "source": [
    "## Helpers"
   ]
  },
  {
   "cell_type": "code",
   "execution_count": 342,
   "metadata": {},
   "outputs": [
    {
     "name": "stdout",
     "output_type": "stream",
     "text": [
      "Considering your Sun in Taurus[☉♉] and the current transit of Mars in\n",
      "Aquarius[♂♒], it might be a time for reevaluation rather than abrupt changes...\n"
     ]
    }
   ],
   "source": [
    "import textwrap\n",
    "import re\n",
    "\n",
    "\n",
    "# Hard-coded mappings for demonstration\n",
    "astrological_signs_mapped = {\n",
    "    'Sun in Taurus': '[☉♉]',\n",
    "    'Moon in Libra': '[☽♎]',\n",
    "    'Mars in Capricorn': '[♂♑]',\n",
    "    'Mercury in Aries': '[☿♈]',\n",
    "    'Jupiter in Pisces': '[♃♓]',\n",
    "    'Venus in Taurus': '[♀♉]',\n",
    "    'Saturn in Sagittarius': '[♄♐]',\n",
    "    'Uranus in Sagittarius': '[♅♐]',\n",
    "    'Neptune in Capricorn': '[♆♑]',\n",
    "    'Pluto in Scorpio': '[♇♏]',\n",
    "    'Moon in Gemini': '[☽♊]',\n",
    "    'Sun in Aquarius': '[☉♒]',\n",
    "    'Mercury in Aquarius': '[☿♒]',\n",
    "    'Venus in Aquarius': '[♀♒]',\n",
    "    'Mars in Aquarius': '[♂♒]',\n",
    "    'Jupiter in Taurus': '[♃♉]',\n",
    "    'Neptune in Pisces': '[♆♓]',\n",
    "    'Saturn in Pisces': '[♄♓]',\n",
    "    'Uranus in Taurus': '[♅♉]'\n",
    "}\n",
    "\n",
    "\n",
    "def format_completion(completion, signs_mapped=astrological_signs_mapped):\n",
    "    # Assuming 'completion' can be a string or an object with the necessary attribute\n",
    "    if hasattr(completion, 'choices'):\n",
    "        content = completion.choices[0].message.content.strip()\n",
    "    else:\n",
    "        content = completion\n",
    "    \n",
    "    # Function to replace astrological signs with their references in a given text\n",
    "    def replace_signs_with_references(text, signs_mapped):\n",
    "        for sign, reference in signs_mapped.items():\n",
    "            pattern = r'\\b' + re.escape(sign) + r'\\b'\n",
    "            text = re.sub(pattern, f\"{sign}{reference}\", text)\n",
    "        return text\n",
    "    \n",
    "    # Apply the replacements to the content\n",
    "    content_with_references = replace_signs_with_references(content, signs_mapped)\n",
    "    \n",
    "    # Split the content into paragraphs\n",
    "    paragraphs = content_with_references.split('\\n\\n')\n",
    "    \n",
    "    # Wrap each paragraph and join with double newlines\n",
    "    wrapped_paragraphs = '\\n\\n'.join(['\\n'.join(textwrap.wrap(paragraph, width=80)) for paragraph in paragraphs])\n",
    "    \n",
    "    return wrapped_paragraphs\n",
    "    \n",
    "\n",
    "# Example completion (this would be replaced with the actual completion object)\n",
    "completion_example = \"Considering your Sun in Taurus and the current transit of Mars in Aquarius, it might be a time for reevaluation rather than abrupt changes...\"\n",
    "\n",
    "# Call the function with an example completion and the mappings\n",
    "print(format_completion(completion_example, signs_mapped=astrological_signs_mapped))\n"
   ]
  },
  {
   "cell_type": "markdown",
   "metadata": {},
   "source": [
    "## With detailed transit context\n",
    "In addition to providing transits, the llm may have a better output if we include traits of those transits"
   ]
  },
  {
   "cell_type": "code",
   "execution_count": 343,
   "metadata": {},
   "outputs": [
    {
     "name": "stdout",
     "output_type": "stream",
     "text": [
      "With the current cosmic energies at play, your focus on innovation and community\n",
      "building is heightened. Embrace the Aquarian energy to bring about positive\n",
      "changes in social justice issues and collaborative endeavors. Jupiter's\n",
      "influence in Taurus prompts growth in your financial matters and values, urging\n",
      "you to expand your perspectives and cultivate abundance in new ways. Saturn and\n",
      "Neptune in Pisces[♆♓] encourage you to explore spiritual growth and creative\n",
      "expression, while also pushing you to confront any illusions or self-deceptions\n",
      "that may be holding you back.\n",
      "\n",
      "Your Taurus sun sign, combined with a Libra moon, suggests a unique blend of\n",
      "persistence and harmony in your emotional responses. Venus in Taurus[♀♉]\n",
      "enhances your love for beauty and stability in relationships, guiding you to\n",
      "deepen your connections with those around you. With Mars in Capricorn[♂♑], your\n",
      "disciplined approach to pursuing goals will serve you well during this time of\n",
      "growth and expansion. Embrace these influences to propel yourself forward with\n",
      "confidence and determination towards your dreams and desires.\n"
     ]
    }
   ],
   "source": [
    "astrological_transits_context = \"\"\"\n",
    "- The collective energy of Sun, Mercury, Venus, and Mars in Aquarius brings a focus on innovation, social justice, and community building.\n",
    "- Jupiter in Taurus emphasizes growth in financial matters and personal values.\n",
    "- Saturn and Neptune in Pisces highlight spiritual growth, creative expression, and facing illusions.\n",
    "\"\"\"\n",
    "\n",
    "personal_birth_signs = \"\"\"\n",
    "- Sun in Taurus: Your core being shines through persistence, sensuality, and an appreciation for the finer things in life.\n",
    "- Moon in Libra: You have an innate need for harmony, balance, and beautiful surroundings, influencing your emotional responses.\n",
    "- Venus in Taurus: This placement enhances your love for beauty, stability in relationships, and a strong connection to nature.\n",
    "- Mars in Capricorn: It gives you a disciplined, structured approach to pursuing your goals and ambitions.\n",
    "\"\"\"\n",
    "\n",
    "prompt = f\"\"\"Directly provide a personalized and engaging horoscope without any greetings or closures. Focus on the content based on the current astrological transits and my specific birth signs. 2 paragraphs\n",
    "Transits: {astrological_transits_context}\n",
    "My Birth Signs: {personal_birth_signs}\n",
    "\"\"\"\n",
    "\n",
    "completion = client.chat.completions.create(\n",
    "    model=\"gpt-3.5-turbo\",\n",
    "    messages=[\n",
    "        {\"role\": \"system\", \"content\": prompt},\n",
    "    ]\n",
    ")\n",
    "\n",
    "print(format_completion(completion))\n"
   ]
  },
  {
   "cell_type": "markdown",
   "metadata": {},
   "source": [
    "## Use all Transits and Birth Signs\n",
    "In this test I'm trying to see if the model can take in a list of all transits and birth signs, and formulate a good output for the question"
   ]
  },
  {
   "cell_type": "code",
   "execution_count": 344,
   "metadata": {},
   "outputs": [
    {
     "name": "stdout",
     "output_type": "stream",
     "text": [
      "User question: How do I brighten someone's day?\n",
      "\n",
      "Today, with the Moon in Gemini[☽♊] and Mercury in Aquarius[☿♒], communication\n",
      "and intellectual stimulation are key themes. With your Sun in Taurus[☉♉] and\n",
      "Venus in Taurus[♀♉], you can bring warmth and stability to those around you.\n",
      "Maybe reach out to a friend or loved one with a thoughtful message or a small\n",
      "gesture that shows you care. Your innate sense of beauty and harmony, with your\n",
      "Moon in Libra[☽♎], can bring a touch of elegance and grace to someone's day.\n",
      "\n",
      "Mars in Capricorn[♂♑] and Saturn in Sagittarius[♄♐] give you determination and a\n",
      "sense of responsibility, so offering practical help or solutions to someone in\n",
      "need can make a real difference. Remember that your Jupiter in Pisces[♃♓]\n",
      "enhances your empathy and compassion, allowing you to connect on a deeper level\n",
      "with others.\n",
      "\n",
      "Overall, by combining your practicality, warmth, and empathy, you can brighten\n",
      "someone's day by being there for them, offering a listening ear, and providing\n",
      "practical support. Your astrological influences suggest that your unique\n",
      "combination of traits can bring comfort and positivity to those around you."
     ]
    }
   ],
   "source": [
    "user_question = \"How do I brighten someone's day?\"\n",
    "user_birth_signs = [\"Sun in Taurus\", \"Moon in Libra\", \"Mars in Capricorn\", \"Mercury in Aries\", \"Jupiter in Pisces\", \"Venus in Taurus\", \"Saturn in Sagittarius\", \"Uranus in Sagittarius\", \"Neptune in Capricorn\", \"Pluto in Scorpio\"]\n",
    "current_transits = [\"Moon in Gemini\", \"Sun in Aquarius\", \"Mercury in Aquarius\", \"Venus in Aquarius\", \"Mars in Aquarius\", \"Jupiter in Taurus\", \"Neptune in Pisces\", \"Saturn in Pisces\", \"Uranus in Taurus\"]\n",
    "\n",
    "selected_birth_signs = user_birth_signs\n",
    "selected_transits = current_transits\n",
    "\n",
    "system_message = {\n",
    "    \"role\": \"system\",\n",
    "    \"content\": (\n",
    "        f\"Provide thoughtful astrological advice considering two of the user's birth signs ({', '.join(selected_birth_signs)}) and \"\n",
    "        f\"two of the current transits ({', '.join(selected_transits)}). Consider how these astrological factors might influence the user's question, \"\n",
    "        f\"using empathy and practical guidance. Vary which transits and birth signs are selected for each message.\"\n",
    "        f\"Your inital response should be approximately 150 to 250 words in length.\"\n",
    "    )\n",
    "}\n",
    "\n",
    "# Send the user's question and system message to the API\n",
    "user_response = client.chat.completions.create(\n",
    "    model=\"gpt-3.5-turbo\",\n",
    "    messages=[\n",
    "        {\"role\": \"user\", \"content\": user_question},\n",
    "        system_message\n",
    "    ],\n",
    "    temperature=1,\n",
    "    stream=True  # Set stream=True to receive responses incrementally\n",
    ")\n",
    "\n",
    "print(f\"User question: {user_question}\\n\")\n",
    "\n",
    "response_string = f\"\"\"User question: {user_question}\n",
    "\n",
    "\"\"\"\n",
    "for chunk in user_response:\n",
    "    if chunk.choices and chunk.choices[0].delta.content is not None:\n",
    "        response_string += chunk.choices[0].delta.content\n",
    "        formatted_response = format_completion(response_string)\n",
    "        clear_output(wait=False)  # Clear the output before updating\n",
    "        print(formatted_response,  end='', flush=True)  # Print the formatted response\n",
    "\n",
    "clear_output(wait=False)  # Clear the output before updating\n",
    "print(formatted_response,  end='', flush=True)  # Print the formatted response"
   ]
  },
  {
   "cell_type": "markdown",
   "metadata": {},
   "source": [
    "## Follow up questions\n",
    "Figuring out how to get the model good at responding to follow up questions"
   ]
  },
  {
   "cell_type": "code",
   "execution_count": 345,
   "metadata": {},
   "outputs": [
    {
     "name": "stdout",
     "output_type": "stream",
     "text": [
      "User question: I'm also thinking about quitting my job. What do you think?\n",
      "\n",
      "With your Mars in Capricorn[♂♑] and Saturn in Sagittarius[♄♐], you likely\n",
      "approach work with determination and a sense of responsibility. However, the\n",
      "current transits of Saturn and Neptune in Pisces[♆♓] may be influencing your\n",
      "desire for a change in your career path. Before making any decisions, consider\n",
      "how this potential change aligns with your long-term goals and financial\n",
      "stability. With Jupiter in Taurus[♃♉], this could be a favorable time to explore\n",
      "new opportunities that resonate with your values and bring growth. Reflect on\n",
      "whether your current job aligns with your passions and if there are ways to make\n",
      "it more fulfilling before deciding to quit. With Uranus in Taurus[♅♉], you may\n",
      "be seeking more freedom and innovation in your work environment. Take time to\n",
      "assess your options, weigh the pros and cons, and consider speaking with a\n",
      "trusted mentor or career advisor for guidance. Remember to trust your instincts\n",
      "and make a decision that aligns with your personal and professional growth."
     ]
    }
   ],
   "source": [
    "user_question = \"I'm also thinking about quitting my job. What do you think?\"\n",
    "user_birth_signs = [\"Sun in Taurus\", \"Moon in Libra\", \"Mars in Capricorn\", \"Mercury in Aries\", \"Jupiter in Pisces\", \"Venus in Taurus\", \"Saturn in Sagittarius\", \"Uranus in Sagittarius\", \"Neptune in Capricorn\", \"Pluto in Scorpio\"]\n",
    "current_transits = [\"Moon in Gemini\", \"Sun in Aquarius\", \"Mercury in Aquarius\", \"Venus in Aquarius\", \"Mars in Aquarius\", \"Jupiter in Taurus\", \"Neptune in Pisces\", \"Saturn in Pisces\", \"Uranus in Taurus\"]\n",
    "\n",
    "selected_birth_signs = user_birth_signs\n",
    "selected_transits = current_transits\n",
    "\n",
    "system_message = {\n",
    "    \"role\": \"system\",\n",
    "    \"content\": (\n",
    "        f\"Provide thoughtful astrological advice considering two of the user's birth signs ({', '.join(selected_birth_signs)}) and \"\n",
    "        f\"two of the current transits ({', '.join(selected_transits)}). Consider how these astrological factors might influence the user's question, \"\n",
    "        f\"using empathy and practical guidance. Vary which transits and birth signs are selected for each message.\"\n",
    "        f\"Your inital response should be approximately 150 to 250 words in length. For the rest of the conversation, be more concise, with as few words as 1 unless the user asks for more details.\"\n",
    "    )\n",
    "}\n",
    "\n",
    "# Send the user's question and system message to the API\n",
    "user_response = client.chat.completions.create(\n",
    "    model=\"gpt-3.5-turbo\",\n",
    "    messages=[\n",
    "        system_message,\n",
    "        {\"role\": \"user\", \"content\": \"Should I invite my family over? They drive me crazy\"},\n",
    "        {\"role\": \"assistant\", \"content\":\"Considering that you are a Taurus with a Moon in Libra, you likely value\\nstability and harmony in your relationships. However, with the current transit\\nof the Moon in Gemini, you may feel more inclined to socialize and connect\\nwith your family despite any potential conflicts.\\nWhile your family may drive you crazy at times, it could be beneficial to set\\nclear boundaries and expectations before inviting them over. With Venus,\\nMercury, and Mars all in Aquarius, you may find that open communication and a\\nrational approach to addressing any issues can lead to a more positive\\ngathering.\\nAdditionally, with Jupiter in Taurus, this is a favorable time for expanding\\nyour social circle and strengthening family bonds. It may be worth considering\\nthe potential benefits of spending quality time with your family, even if they\\ncan be challenging at times.\\nUltimately, the decision to invite your family over should align with your\\npersonal values and well-being. Trust your intuition and consider how you can\\ncreate a harmonious and enjoyable environment for everyone involved.Considering that you are a Taurus\"},\n",
    "        {\"role\": \"user\", \"content\": user_question},\n",
    "    ],\n",
    "    temperature=.5,\n",
    "    stream=True  # Set stream=True to receive responses incrementally\n",
    ")\n",
    "\n",
    "response_string = f\"\"\"User question: {user_question}\n",
    "\n",
    "\"\"\"\n",
    "for chunk in user_response:\n",
    "    if chunk.choices and chunk.choices[0].delta.content is not None:\n",
    "        response_string += chunk.choices[0].delta.content\n",
    "        formatted_response = format_completion(response_string)\n",
    "        clear_output(wait=False)  # Clear the output before updating\n",
    "        print(formatted_response,  end='', flush=True)  # Print the formatted response\n",
    "\n",
    "\n",
    "clear_output(wait=False)  # Clear the output before updating\n",
    "print(formatted_response,  end='', flush=True)  # Print the formatted response"
   ]
  }
 ],
 "metadata": {
  "kernelspec": {
   "display_name": "transit",
   "language": "python",
   "name": "transit"
  },
  "language_info": {
   "codemirror_mode": {
    "name": "ipython",
    "version": 3
   },
   "file_extension": ".py",
   "mimetype": "text/x-python",
   "name": "python",
   "nbconvert_exporter": "python",
   "pygments_lexer": "ipython3",
   "version": "3.12.1"
  }
 },
 "nbformat": 4,
 "nbformat_minor": 2
}
