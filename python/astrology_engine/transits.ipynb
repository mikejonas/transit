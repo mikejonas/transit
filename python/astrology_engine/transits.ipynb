{
 "cells": [
  {
   "cell_type": "markdown",
   "metadata": {},
   "source": [
    "## Test Transits class\n",
    "Using this file for testing and iteration"
   ]
  },
  {
   "cell_type": "code",
   "execution_count": 2,
   "metadata": {},
   "outputs": [],
   "source": [
    "%load_ext autoreload\n",
    "%autoreload 2\n",
    "from transits import ZodiacTransits"
   ]
  },
  {
   "cell_type": "code",
   "execution_count": 15,
   "metadata": {},
   "outputs": [
    {
     "name": "stdout",
     "output_type": "stream",
     "text": [
      "Sun Taurus 2°46'30\", Retograde: False\n",
      "Moon Libra 14°47'49\", Retograde: False\n",
      "Mercury Aries 7°12'59\", Retograde: False\n",
      "Venus Taurus 25°38'38\", Retograde: False\n",
      "Mars Capricorn 12°4'0\", Retograde: False\n",
      "Jupiter Pisces 13°52'14\", Retograde: False\n",
      "Saturn Sagittarius 8°44'26\", Retograde: True\n",
      "Uranus Sagittarius 22°4'34\", Retograde: True\n",
      "Neptune Capricorn 5°44'38\", Retograde: True\n",
      "{'object_reports': [{'lon': 32.775128044956844, 'degree_within_sign': 2.775128044956844, 'degrees': 2, 'minutes': 46, 'seconds': 30, 'sign': 'Taurus', 'object_type': 'Sun', 'is_in_retrograde': False}, {'lon': 194.7971187081443, 'degree_within_sign': 14.797118708144296, 'degrees': 14, 'minutes': 47, 'seconds': 49, 'sign': 'Libra', 'object_type': 'Moon', 'is_in_retrograde': False}, {'lon': 7.216650534175482, 'degree_within_sign': 7.216650534175482, 'degrees': 7, 'minutes': 12, 'seconds': 59, 'sign': 'Aries', 'object_type': 'Mercury', 'is_in_retrograde': False}, {'lon': 55.64411771693707, 'degree_within_sign': 25.644117716937068, 'degrees': 25, 'minutes': 38, 'seconds': 38, 'sign': 'Taurus', 'object_type': 'Venus', 'is_in_retrograde': False}, {'lon': 282.06671161271095, 'degree_within_sign': 12.066711612710947, 'degrees': 12, 'minutes': 4, 'seconds': 0, 'sign': 'Capricorn', 'object_type': 'Mars', 'is_in_retrograde': False}, {'lon': 343.8706505280511, 'degree_within_sign': 13.870650528051101, 'degrees': 13, 'minutes': 52, 'seconds': 14, 'sign': 'Pisces', 'object_type': 'Jupiter', 'is_in_retrograde': False}, {'lon': 248.7405674564917, 'degree_within_sign': 8.740567456491704, 'degrees': 8, 'minutes': 44, 'seconds': 26, 'sign': 'Sagittarius', 'object_type': 'Saturn', 'is_in_retrograde': True}, {'lon': 262.0763432632229, 'degree_within_sign': 22.076343263222896, 'degrees': 22, 'minutes': 4, 'seconds': 34, 'sign': 'Sagittarius', 'object_type': 'Uranus', 'is_in_retrograde': True}, {'lon': 275.74391046058855, 'degree_within_sign': 5.743910460588552, 'degrees': 5, 'minutes': 44, 'seconds': 38, 'sign': 'Capricorn', 'object_type': 'Neptune', 'is_in_retrograde': True}], 'date_time_and_location': {'date': '1986-04-23', 'time': '00:30:00', 'latitude': 40.8428759, 'longitude': -73.2928943, 'timezone': 'America/New_York'}}\n",
      "\n",
      "Actual:\n",
      "Sun Taurus 2°46'30\"\n",
      "Moon Libra 14°47'49\"\n",
      "Mars Capricorn 12°3'59\"\n",
      "Mercury Aries 7°13'0\"\n",
      "Jupiter Pisces 13°52'14\"\n",
      "Venus Taurus 25°38'38\"\n",
      "Saturn Sagittarius 8°44'26\"\n",
      "Uranus Sagittarius 22°4'34\"\n",
      "Neptune Capricorn 5°44'38\"\n",
      "Pluto Scorpio 6°3'57\"\n",
      "\n"
     ]
    }
   ],
   "source": [
    "from datetime import datetime\n",
    "from zoneinfo import ZoneInfo\n",
    "import time\n",
    "zodiac_transits = ZodiacTransits()\n",
    "\n",
    "BIRTH_DATETIME = datetime(1986, 4, 23, 0, 30, tzinfo=ZoneInfo(\"America/New_York\"))\n",
    "BIRTH_LATITUDE = 40.8428759\n",
    "BIRTH_LONGITUDE = -73.2928943\n",
    "\n",
    "birth_details = ZodiacTransits.get_astrological_birth_details(BIRTH_DATETIME, BIRTH_LATITUDE, BIRTH_LONGITUDE, \"America/New_York\")\n",
    "for obj in birth_details['object_reports']:\n",
    "    print(f\"{obj['object_type']} {obj['sign']} {obj['degrees']}°{obj['minutes']}'{obj['seconds']}\\\", Retograde: {obj['is_in_retrograde']}\")\n",
    "\n",
    "print(birth_details)\n",
    "\n",
    "print(\"\"\"\n",
    "Actual:\n",
    "Sun Taurus 2°46'30\"\n",
    "Moon Libra 14°47'49\"\n",
    "Mars Capricorn 12°3'59\"\n",
    "Mercury Aries 7°13'0\"\n",
    "Jupiter Pisces 13°52'14\"\n",
    "Venus Taurus 25°38'38\"\n",
    "Saturn Sagittarius 8°44'26\"\n",
    "Uranus Sagittarius 22°4'34\"\n",
    "Neptune Capricorn 5°44'38\"\n",
    "Pluto Scorpio 6°3'57\"\n",
    "\"\"\")"
   ]
  },
  {
   "cell_type": "code",
   "execution_count": null,
   "metadata": {},
   "outputs": [
    {
     "name": "stdout",
     "output_type": "stream",
     "text": [
      "Moon is in Gemini February 16, 2024 - February 18, 2024\n",
      "Sun is in Aquarius January 20, 2024 - February 18, 2024\n",
      "Mercury is in Aquarius February 04, 2024 - February 23, 2024\n",
      "Venus is in Aquarius February 16, 2024 - March 11, 2024\n",
      "Mars is in Aquarius February 12, 2024 - March 22, 2024\n",
      "Jupiter is in Taurus May 16, 2023 - May 25, 2024\n",
      "Neptune is in Pisces December 31, 2019 - March 30, 2025\n",
      "Saturn is in Pisces March 07, 2023 - May 24, 2025\n",
      "Uranus is in Taurus December 31, 2019 - July 07, 2025\n",
      "\n",
      "Actual: \n",
      "Moon is in Gemini February 16, 2024 - February 18, 2024\n",
      "Sun is in Aquarius January 20, 2024 - February 18, 2024\n",
      "Mercury is in Aquarius February 4, 2024 - February 22, 2024\n",
      "Venus is in Aquarius February 16, 2024 - March 11, 2024\n",
      "Mars is in Aquarius February 12, 2024 - March 22, 2024\n",
      "Jupiter is in Taurus May 16, 2023 - May 25, 2024\n",
      "Neptune is in Pisces Feb 3, 2022 - March 30, 2025\n",
      "Saturn is in Pisces Mar 7, 2023 - May 24, 2025\n",
      "Uranus is in Taurus Mar 6, 2019 - July 6, 2025\n",
      "\n"
     ]
    }
   ],
   "source": [
    "from datetime import datetime, timedelta\n",
    "from zoneinfo import ZoneInfo\n",
    "\n",
    "def pretty_print_transits(transits, timezone=ZoneInfo(\"America/Los_Angeles\")):\n",
    "    \"\"\"Prints the transits in a human-readable format, adjusted for the specified timezone.\"\"\"\n",
    "    for transit in transits[:20]:  # Limiting to the first 20 transits for brevity\n",
    "        start_tz = transit[\"start\"].astimezone(timezone)\n",
    "        end_tz = transit[\"end\"].astimezone(timezone)\n",
    "\n",
    "        print(\n",
    "            f\"{transit['planet'].capitalize()} is in {transit['sign']} {start_tz:%B %d, %Y} - {end_tz:%B %d, %Y}\"\n",
    "        )\n",
    "\n",
    "def filter_transits_for_today(transits, date, timezone=ZoneInfo(\"UTC\")):\n",
    "    \"\"\"Filters transits that are active on the specified date, considering the timezone.\"\"\"\n",
    "    date_tz = date.astimezone(timezone)\n",
    "\n",
    "    return [\n",
    "        transit\n",
    "        for transit in transits\n",
    "        if transit[\"start\"] <= date_tz < (transit[\"end\"] + timedelta(days=1))\n",
    "    ]\n",
    "\n",
    "# Main execution\n",
    "if __name__ == \"__main__\":\n",
    "    # Instantiate the ZodiacTransits class and find transits\n",
    "    zodiac_transits = ZodiacTransits()\n",
    "\n",
    "\n",
    "    transits = zodiac_transits.find_transits(\n",
    "        datetime(2020, 1, 1, tzinfo=ZoneInfo(\"UTC\")), datetime(2026, 1, 1, tzinfo=ZoneInfo(\"UTC\"))\n",
    "    )\n",
    "    today = datetime(2024, 2, 18, 0, 0, tzinfo=ZoneInfo(\"UTC\"))\n",
    "    transits_today = filter_transits_for_today(transits, today)\n",
    "    pretty_print_transits(transits_today)\n",
    "\n",
    "\n",
    "print(\"\"\"\n",
    "Actual: \n",
    "Moon is in Gemini February 16, 2024 - February 18, 2024\n",
    "Sun is in Aquarius January 20, 2024 - February 18, 2024\n",
    "Mercury is in Aquarius February 4, 2024 - February 22, 2024\n",
    "Venus is in Aquarius February 16, 2024 - March 11, 2024\n",
    "Mars is in Aquarius February 12, 2024 - March 22, 2024\n",
    "Jupiter is in Taurus May 16, 2023 - May 25, 2024\n",
    "Neptune is in Pisces Feb 3, 2022 - March 30, 2025\n",
    "Saturn is in Pisces Mar 7, 2023 - May 24, 2025\n",
    "Uranus is in Taurus Mar 6, 2019 - July 6, 2025\n",
    "\"\"\")\n"
   ]
  }
 ],
 "metadata": {
  "kernelspec": {
   "display_name": "transit",
   "language": "python",
   "name": "transit"
  },
  "language_info": {
   "codemirror_mode": {
    "name": "ipython",
    "version": 3
   },
   "file_extension": ".py",
   "mimetype": "text/x-python",
   "name": "python",
   "nbconvert_exporter": "python",
   "pygments_lexer": "ipython3",
   "version": "3.12.1"
  }
 },
 "nbformat": 4,
 "nbformat_minor": 2
}
